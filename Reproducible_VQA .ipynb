{
  "cells": [
    {
      "cell_type": "code",
      "execution_count": 1,
      "metadata": {
        "colab": {
          "base_uri": "https://localhost:8080/"
        },
        "id": "QvCBZhJDVBT8",
        "outputId": "84710bdd-adcd-4ade-c62d-8ef83e5646ca"
      },
      "outputs": [
        {
          "output_type": "stream",
          "name": "stdout",
          "text": [
            "Cloning into 'VL-T5'...\n",
            "remote: Enumerating objects: 229, done.\u001b[K\n",
            "remote: Counting objects: 100% (229/229), done.\u001b[K\n",
            "remote: Compressing objects: 100% (135/135), done.\u001b[K\n",
            "remote: Total 229 (delta 132), reused 177 (delta 89), pack-reused 0\u001b[K\n",
            "Receiving objects: 100% (229/229), 900.48 KiB | 15.53 MiB/s, done.\n",
            "Resolving deltas: 100% (132/132), done.\n"
          ]
        }
      ],
      "source": [
        "!git clone https://github.com/j-min/VL-T5"
      ]
    },
    {
      "cell_type": "code",
      "execution_count": 2,
      "metadata": {
        "colab": {
          "base_uri": "https://localhost:8080/"
        },
        "id": "1PW4EGTAVK3r",
        "outputId": "c2a13687-9706-4108-e5ed-6688595e9ff0"
      },
      "outputs": [
        {
          "output_type": "stream",
          "name": "stdout",
          "text": [
            "/content/VL-T5\n"
          ]
        }
      ],
      "source": [
        "cd VL-T5"
      ]
    },
    {
      "cell_type": "code",
      "execution_count": 3,
      "metadata": {
        "colab": {
          "base_uri": "https://localhost:8080/"
        },
        "id": "CtsVZBTGVMNI",
        "outputId": "ff16edc3-0b7b-4ae0-9d3b-97166c4eec4f"
      },
      "outputs": [
        {
          "output_type": "stream",
          "name": "stdout",
          "text": [
            "Found existing installation: param 1.12.0\n",
            "Uninstalling param-1.12.0:\n",
            "  Successfully uninstalled param-1.12.0\n",
            "Collecting git+git://github.com/j-min/language-evaluation@master (from -r requirements.txt (line 12))\n",
            "  Cloning git://github.com/j-min/language-evaluation (to revision master) to /tmp/pip-req-build-e2ol5qe0\n",
            "  Running command git clone -q git://github.com/j-min/language-evaluation /tmp/pip-req-build-e2ol5qe0\n",
            "Collecting torch==1.6.0\n",
            "  Downloading torch-1.6.0-cp37-cp37m-manylinux1_x86_64.whl (748.8 MB)\n",
            "\u001b[K     |████████████████████████████████| 748.8 MB 18 kB/s \n",
            "\u001b[?25hCollecting transformers==4.2.1\n",
            "  Downloading transformers-4.2.1-py3-none-any.whl (1.8 MB)\n",
            "\u001b[K     |████████████████████████████████| 1.8 MB 51.2 MB/s \n",
            "\u001b[?25hCollecting sentencepiece\n",
            "  Downloading sentencepiece-0.1.96-cp37-cp37m-manylinux_2_17_x86_64.manylinux2014_x86_64.whl (1.2 MB)\n",
            "\u001b[K     |████████████████████████████████| 1.2 MB 43.7 MB/s \n",
            "\u001b[?25hRequirement already satisfied: h5py in /usr/local/lib/python3.7/dist-packages (from -r requirements.txt (line 4)) (3.1.0)\n",
            "Collecting wandb\n",
            "  Downloading wandb-0.12.9-py2.py3-none-any.whl (1.7 MB)\n",
            "\u001b[K     |████████████████████████████████| 1.7 MB 25.0 MB/s \n",
            "\u001b[?25hRequirement already satisfied: tqdm in /usr/local/lib/python3.7/dist-packages (from -r requirements.txt (line 6)) (4.62.3)\n",
            "Requirement already satisfied: numpy in /usr/local/lib/python3.7/dist-packages (from -r requirements.txt (line 7)) (1.19.5)\n",
            "Requirement already satisfied: pandas in /usr/local/lib/python3.7/dist-packages (from -r requirements.txt (line 8)) (1.1.5)\n",
            "Requirement already satisfied: matplotlib in /usr/local/lib/python3.7/dist-packages (from -r requirements.txt (line 9)) (3.2.2)\n",
            "Requirement already satisfied: pyyaml in /usr/local/lib/python3.7/dist-packages (from -r requirements.txt (line 10)) (3.13)\n",
            "Collecting sacrebleu\n",
            "  Downloading sacrebleu-2.0.0-py3-none-any.whl (90 kB)\n",
            "\u001b[K     |████████████████████████████████| 90 kB 11.9 MB/s \n",
            "\u001b[?25hCollecting torchvision==0.7.0\n",
            "  Downloading torchvision-0.7.0-cp37-cp37m-manylinux1_x86_64.whl (5.9 MB)\n",
            "\u001b[K     |████████████████████████████████| 5.9 MB 43.3 MB/s \n",
            "\u001b[?25hCollecting wget\n",
            "  Downloading wget-3.2.zip (10 kB)\n",
            "Requirement already satisfied: scikit-image in /usr/local/lib/python3.7/dist-packages (from language-evaluation==0.1.0->-r requirements.txt (line 12)) (0.18.3)\n",
            "Requirement already satisfied: absl-py in /usr/local/lib/python3.7/dist-packages (from language-evaluation==0.1.0->-r requirements.txt (line 12)) (0.12.0)\n",
            "Requirement already satisfied: nltk in /usr/local/lib/python3.7/dist-packages (from language-evaluation==0.1.0->-r requirements.txt (line 12)) (3.2.5)\n",
            "Requirement already satisfied: six in /usr/local/lib/python3.7/dist-packages (from language-evaluation==0.1.0->-r requirements.txt (line 12)) (1.15.0)\n",
            "Requirement already satisfied: more_itertools in /usr/local/lib/python3.7/dist-packages (from language-evaluation==0.1.0->-r requirements.txt (line 12)) (8.12.0)\n",
            "Collecting colorlog\n",
            "  Downloading colorlog-6.6.0-py2.py3-none-any.whl (11 kB)\n",
            "Requirement already satisfied: future in /usr/local/lib/python3.7/dist-packages (from torch==1.6.0->-r requirements.txt (line 1)) (0.16.0)\n",
            "Requirement already satisfied: regex!=2019.12.17 in /usr/local/lib/python3.7/dist-packages (from transformers==4.2.1->-r requirements.txt (line 2)) (2019.12.20)\n",
            "Collecting sacremoses\n",
            "  Downloading sacremoses-0.0.47-py2.py3-none-any.whl (895 kB)\n",
            "\u001b[K     |████████████████████████████████| 895 kB 63.9 MB/s \n",
            "\u001b[?25hRequirement already satisfied: requests in /usr/local/lib/python3.7/dist-packages (from transformers==4.2.1->-r requirements.txt (line 2)) (2.23.0)\n",
            "Collecting tokenizers==0.9.4\n",
            "  Downloading tokenizers-0.9.4-cp37-cp37m-manylinux2010_x86_64.whl (2.9 MB)\n",
            "\u001b[K     |████████████████████████████████| 2.9 MB 45.5 MB/s \n",
            "\u001b[?25hRequirement already satisfied: importlib-metadata in /usr/local/lib/python3.7/dist-packages (from transformers==4.2.1->-r requirements.txt (line 2)) (4.10.0)\n",
            "Requirement already satisfied: packaging in /usr/local/lib/python3.7/dist-packages (from transformers==4.2.1->-r requirements.txt (line 2)) (21.3)\n",
            "Requirement already satisfied: filelock in /usr/local/lib/python3.7/dist-packages (from transformers==4.2.1->-r requirements.txt (line 2)) (3.4.2)\n",
            "Requirement already satisfied: pillow>=4.1.1 in /usr/local/lib/python3.7/dist-packages (from torchvision==0.7.0->-r requirements.txt (line 13)) (7.1.2)\n",
            "Requirement already satisfied: cached-property in /usr/local/lib/python3.7/dist-packages (from h5py->-r requirements.txt (line 4)) (1.5.2)\n",
            "Requirement already satisfied: python-dateutil>=2.6.1 in /usr/local/lib/python3.7/dist-packages (from wandb->-r requirements.txt (line 5)) (2.8.2)\n",
            "Collecting GitPython>=1.0.0\n",
            "  Downloading GitPython-3.1.26-py3-none-any.whl (180 kB)\n",
            "\u001b[K     |████████████████████████████████| 180 kB 74.1 MB/s \n",
            "\u001b[?25hCollecting yaspin>=1.0.0\n",
            "  Downloading yaspin-2.1.0-py3-none-any.whl (18 kB)\n",
            "Requirement already satisfied: promise<3,>=2.0 in /usr/local/lib/python3.7/dist-packages (from wandb->-r requirements.txt (line 5)) (2.3)\n",
            "Collecting shortuuid>=0.5.0\n",
            "  Downloading shortuuid-1.0.8-py3-none-any.whl (9.5 kB)\n",
            "Requirement already satisfied: Click!=8.0.0,>=7.0 in /usr/local/lib/python3.7/dist-packages (from wandb->-r requirements.txt (line 5)) (7.1.2)\n",
            "Collecting subprocess32>=3.5.3\n",
            "  Downloading subprocess32-3.5.4.tar.gz (97 kB)\n",
            "\u001b[K     |████████████████████████████████| 97 kB 7.4 MB/s \n",
            "\u001b[?25hCollecting docker-pycreds>=0.4.0\n",
            "  Downloading docker_pycreds-0.4.0-py2.py3-none-any.whl (9.0 kB)\n",
            "Collecting sentry-sdk>=1.0.0\n",
            "  Downloading sentry_sdk-1.5.3-py2.py3-none-any.whl (142 kB)\n",
            "\u001b[K     |████████████████████████████████| 142 kB 61.0 MB/s \n",
            "\u001b[?25hRequirement already satisfied: protobuf>=3.12.0 in /usr/local/lib/python3.7/dist-packages (from wandb->-r requirements.txt (line 5)) (3.17.3)\n",
            "Collecting pathtools\n",
            "  Downloading pathtools-0.1.2.tar.gz (11 kB)\n",
            "Collecting configparser>=3.8.1\n",
            "  Downloading configparser-5.2.0-py3-none-any.whl (19 kB)\n",
            "Requirement already satisfied: psutil>=5.0.0 in /usr/local/lib/python3.7/dist-packages (from wandb->-r requirements.txt (line 5)) (5.4.8)\n",
            "Collecting gitdb<5,>=4.0.1\n",
            "  Downloading gitdb-4.0.9-py3-none-any.whl (63 kB)\n",
            "\u001b[K     |████████████████████████████████| 63 kB 1.9 MB/s \n",
            "\u001b[?25hRequirement already satisfied: typing-extensions>=3.7.4.3 in /usr/local/lib/python3.7/dist-packages (from GitPython>=1.0.0->wandb->-r requirements.txt (line 5)) (3.10.0.2)\n",
            "Collecting smmap<6,>=3.0.1\n",
            "  Downloading smmap-5.0.0-py3-none-any.whl (24 kB)\n",
            "Requirement already satisfied: certifi>=2017.4.17 in /usr/local/lib/python3.7/dist-packages (from requests->transformers==4.2.1->-r requirements.txt (line 2)) (2021.10.8)\n",
            "Requirement already satisfied: urllib3!=1.25.0,!=1.25.1,<1.26,>=1.21.1 in /usr/local/lib/python3.7/dist-packages (from requests->transformers==4.2.1->-r requirements.txt (line 2)) (1.24.3)\n",
            "Requirement already satisfied: chardet<4,>=3.0.2 in /usr/local/lib/python3.7/dist-packages (from requests->transformers==4.2.1->-r requirements.txt (line 2)) (3.0.4)\n",
            "Requirement already satisfied: idna<3,>=2.5 in /usr/local/lib/python3.7/dist-packages (from requests->transformers==4.2.1->-r requirements.txt (line 2)) (2.10)\n",
            "Requirement already satisfied: termcolor<2.0.0,>=1.1.0 in /usr/local/lib/python3.7/dist-packages (from yaspin>=1.0.0->wandb->-r requirements.txt (line 5)) (1.1.0)\n",
            "Requirement already satisfied: pytz>=2017.2 in /usr/local/lib/python3.7/dist-packages (from pandas->-r requirements.txt (line 8)) (2018.9)\n",
            "Requirement already satisfied: pyparsing!=2.0.4,!=2.1.2,!=2.1.6,>=2.0.1 in /usr/local/lib/python3.7/dist-packages (from matplotlib->-r requirements.txt (line 9)) (3.0.6)\n",
            "Requirement already satisfied: kiwisolver>=1.0.1 in /usr/local/lib/python3.7/dist-packages (from matplotlib->-r requirements.txt (line 9)) (1.3.2)\n",
            "Requirement already satisfied: cycler>=0.10 in /usr/local/lib/python3.7/dist-packages (from matplotlib->-r requirements.txt (line 9)) (0.11.0)\n",
            "Requirement already satisfied: tabulate>=0.8.9 in /usr/local/lib/python3.7/dist-packages (from sacrebleu->-r requirements.txt (line 11)) (0.8.9)\n",
            "Collecting colorama\n",
            "  Downloading colorama-0.4.4-py2.py3-none-any.whl (16 kB)\n",
            "Collecting portalocker\n",
            "  Downloading portalocker-2.3.2-py2.py3-none-any.whl (15 kB)\n",
            "Requirement already satisfied: zipp>=0.5 in /usr/local/lib/python3.7/dist-packages (from importlib-metadata->transformers==4.2.1->-r requirements.txt (line 2)) (3.7.0)\n",
            "Requirement already satisfied: joblib in /usr/local/lib/python3.7/dist-packages (from sacremoses->transformers==4.2.1->-r requirements.txt (line 2)) (1.1.0)\n",
            "Requirement already satisfied: imageio>=2.3.0 in /usr/local/lib/python3.7/dist-packages (from scikit-image->language-evaluation==0.1.0->-r requirements.txt (line 12)) (2.4.1)\n",
            "Requirement already satisfied: tifffile>=2019.7.26 in /usr/local/lib/python3.7/dist-packages (from scikit-image->language-evaluation==0.1.0->-r requirements.txt (line 12)) (2021.11.2)\n",
            "Requirement already satisfied: networkx>=2.0 in /usr/local/lib/python3.7/dist-packages (from scikit-image->language-evaluation==0.1.0->-r requirements.txt (line 12)) (2.6.3)\n",
            "Requirement already satisfied: scipy>=1.0.1 in /usr/local/lib/python3.7/dist-packages (from scikit-image->language-evaluation==0.1.0->-r requirements.txt (line 12)) (1.4.1)\n",
            "Requirement already satisfied: PyWavelets>=1.1.1 in /usr/local/lib/python3.7/dist-packages (from scikit-image->language-evaluation==0.1.0->-r requirements.txt (line 12)) (1.2.0)\n",
            "Building wheels for collected packages: language-evaluation, subprocess32, wget, pathtools\n",
            "  Building wheel for language-evaluation (setup.py) ... \u001b[?25l\u001b[?25hdone\n",
            "  Created wheel for language-evaluation: filename=language_evaluation-0.1.0-py3-none-any.whl size=42700525 sha256=b978cb835d8a5614fc73ef094ec745e413b59d9e78d94a6417d9b266c5e758f2\n",
            "  Stored in directory: /tmp/pip-ephem-wheel-cache-kairrx8d/wheels/8d/fd/6b/f12f08f2fca4312f96a38e1df7c5f5fbebb59480def23f6cb7\n",
            "  Building wheel for subprocess32 (setup.py) ... \u001b[?25l\u001b[?25hdone\n",
            "  Created wheel for subprocess32: filename=subprocess32-3.5.4-py3-none-any.whl size=6502 sha256=cb3df729c96ae1d9fcc0c82cc32776160781eda52ac0743c55e6f754d206574d\n",
            "  Stored in directory: /root/.cache/pip/wheels/50/ca/fa/8fca8d246e64f19488d07567547ddec8eb084e8c0d7a59226a\n",
            "  Building wheel for wget (setup.py) ... \u001b[?25l\u001b[?25hdone\n",
            "  Created wheel for wget: filename=wget-3.2-py3-none-any.whl size=9675 sha256=87d21ff11a12c0f1d602474342d0a6e8a0d1110b5267c704e6d9f5279884f2ec\n",
            "  Stored in directory: /root/.cache/pip/wheels/a1/b6/7c/0e63e34eb06634181c63adacca38b79ff8f35c37e3c13e3c02\n",
            "  Building wheel for pathtools (setup.py) ... \u001b[?25l\u001b[?25hdone\n",
            "  Created wheel for pathtools: filename=pathtools-0.1.2-py3-none-any.whl size=8806 sha256=a5901a8f4acc9eaab6773d4c532539485483b1820dea20382253e9e0454102d1\n",
            "  Stored in directory: /root/.cache/pip/wheels/3e/31/09/fa59cef12cdcfecc627b3d24273699f390e71828921b2cbba2\n",
            "Successfully built language-evaluation subprocess32 wget pathtools\n",
            "Installing collected packages: smmap, gitdb, yaspin, torch, tokenizers, subprocess32, shortuuid, sentry-sdk, sacremoses, portalocker, pathtools, GitPython, docker-pycreds, configparser, colorlog, colorama, wget, wandb, transformers, torchvision, sentencepiece, sacrebleu, language-evaluation\n",
            "  Attempting uninstall: torch\n",
            "    Found existing installation: torch 1.10.0+cu111\n",
            "    Uninstalling torch-1.10.0+cu111:\n",
            "      Successfully uninstalled torch-1.10.0+cu111\n",
            "  Attempting uninstall: torchvision\n",
            "    Found existing installation: torchvision 0.11.1+cu111\n",
            "    Uninstalling torchvision-0.11.1+cu111:\n",
            "      Successfully uninstalled torchvision-0.11.1+cu111\n",
            "\u001b[31mERROR: pip's dependency resolver does not currently take into account all the packages that are installed. This behaviour is the source of the following dependency conflicts.\n",
            "torchtext 0.11.0 requires torch==1.10.0, but you have torch 1.6.0 which is incompatible.\n",
            "torchaudio 0.10.0+cu111 requires torch==1.10.0, but you have torch 1.6.0 which is incompatible.\u001b[0m\n",
            "Successfully installed GitPython-3.1.26 colorama-0.4.4 colorlog-6.6.0 configparser-5.2.0 docker-pycreds-0.4.0 gitdb-4.0.9 language-evaluation-0.1.0 pathtools-0.1.2 portalocker-2.3.2 sacrebleu-2.0.0 sacremoses-0.0.47 sentencepiece-0.1.96 sentry-sdk-1.5.3 shortuuid-1.0.8 smmap-5.0.0 subprocess32-3.5.4 tokenizers-0.9.4 torch-1.6.0 torchvision-0.7.0 transformers-4.2.1 wandb-0.12.9 wget-3.2 yaspin-2.1.0\n",
            "Downloading checkpoints if not cached\n",
            "T5-base\n",
            "Downloading: 100% 1.20k/1.20k [00:00<00:00, 1.02MB/s]\n",
            "Downloading: 100% 892M/892M [00:14<00:00, 61.6MB/s]\n",
            "Downloading: 100% 792k/792k [00:00<00:00, 7.75MB/s]\n",
            "BART-base\n",
            "Downloading: 100% 899k/899k [00:00<00:00, 8.03MB/s]\n",
            "Downloading: 100% 456k/456k [00:00<00:00, 4.90MB/s]\n",
            "Downloading: 100% 1.69k/1.69k [00:00<00:00, 1.39MB/s]\n",
            "Downloading: 100% 558M/558M [00:08<00:00, 62.2MB/s]\n",
            "Done!\n"
          ]
        }
      ],
      "source": [
        "!pip uninstall param -y # to resolve name conflict with src.param.py\n",
        "!pip install -r requirements.txt\n",
        "!python download_backbones.py"
      ]
    },
    {
      "cell_type": "code",
      "execution_count": 4,
      "metadata": {
        "id": "4fJB8--2jHHe"
      },
      "outputs": [],
      "source": [
        "import gdown"
      ]
    },
    {
      "cell_type": "code",
      "execution_count": 5,
      "metadata": {
        "id": "pPLKYoBIjHym"
      },
      "outputs": [],
      "source": [
        "!mkdir -p VL-T5/snap/pretrain/VLT5"
      ]
    },
    {
      "cell_type": "code",
      "execution_count": 6,
      "metadata": {
        "colab": {
          "base_uri": "https://localhost:8080/",
          "height": 105
        },
        "id": "0q_eIbpHjzBo",
        "outputId": "f4877122-9fc0-40d9-dd04-5add3f6da295"
      },
      "outputs": [
        {
          "output_type": "stream",
          "name": "stderr",
          "text": [
            "Downloading...\n",
            "From: https://drive.google.com/uc?id=100qajGncE_vc4bfjVxxICwz3dwiAxbIZ\n",
            "To: /content/VL-T5/VL-T5/snap/pretrain/VLT5/Epoch30.pth\n",
            "100%|██████████| 898M/898M [00:05<00:00, 157MB/s]\n"
          ]
        },
        {
          "output_type": "execute_result",
          "data": {
            "application/vnd.google.colaboratory.intrinsic+json": {
              "type": "string"
            },
            "text/plain": [
              "'VL-T5/snap/pretrain/VLT5/Epoch30.pth'"
            ]
          },
          "metadata": {},
          "execution_count": 6
        }
      ],
      "source": [
        "gdown.download('https://drive.google.com/uc?id=100qajGncE_vc4bfjVxxICwz3dwiAxbIZ', 'VL-T5/snap/pretrain/VLT5/Epoch30.pth', quiet=False)"
      ]
    },
    {
      "cell_type": "code",
      "execution_count": 9,
      "metadata": {
        "id": "Zf_fUJsVjJH4"
      },
      "outputs": [],
      "source": [
        "!mkdir -p datasets/vqa"
      ]
    },
    {
      "cell_type": "code",
      "source": [
        "pwd"
      ],
      "metadata": {
        "colab": {
          "base_uri": "https://localhost:8080/",
          "height": 35
        },
        "id": "24sPC5O5Slxw",
        "outputId": "c83a4d16-4dbf-4920-de6c-af6d9d0774bd"
      },
      "execution_count": 8,
      "outputs": [
        {
          "output_type": "execute_result",
          "data": {
            "application/vnd.google.colaboratory.intrinsic+json": {
              "type": "string"
            },
            "text/plain": [
              "'/content/VL-T5'"
            ]
          },
          "metadata": {},
          "execution_count": 8
        }
      ]
    },
    {
      "cell_type": "code",
      "execution_count": 10,
      "metadata": {
        "colab": {
          "base_uri": "https://localhost:8080/",
          "height": 522
        },
        "id": "bdtnRq06jKhJ",
        "outputId": "e1d9fd60-d8c0-450d-aa1c-3d0cbb0d05a8"
      },
      "outputs": [
        {
          "output_type": "stream",
          "name": "stderr",
          "text": [
            "Downloading...\n",
            "From: https://drive.google.com/uc?id=1h7tObFYDni5nZM8DayBWvzSjn1EMYz60\n",
            "To: /content/VL-T5/datasets/vqa/v2_mscoco_train2014_annotations.json\n",
            "100%|██████████| 356M/356M [00:01<00:00, 193MB/s]\n",
            "Downloading...\n",
            "From: https://drive.google.com/uc?id=1S6e9JjFpz_arSP-JGiwzkjLf9cvWH_gg\n",
            "To: /content/VL-T5/datasets/vqa/v2_mscoco_val2014_annotations.json\n",
            "100%|██████████| 172M/172M [00:00<00:00, 204MB/s]\n",
            "Downloading...\n",
            "From: https://drive.google.com/uc?id=1VhxsZ8ZAp55-KdpGHymKZVqtAfZ7KilH\n",
            "To: /content/VL-T5/datasets/vqa/trainval_ans2label.json\n",
            "100%|██████████| 64.3k/64.3k [00:00<00:00, 20.2MB/s]\n",
            "Downloading...\n",
            "From: https://drive.google.com/uc?id=1QO5j2V0yY-fV3aELk105qFgLJRFp0AWF\n",
            "To: /content/VL-T5/datasets/vqa/trainval_label2ans.json\n",
            "100%|██████████| 46.7k/46.7k [00:00<00:00, 20.4MB/s]\n",
            "Downloading...\n",
            "From: https://drive.google.com/uc?id=1GO19yoHAZFiMP6fLGnJA2DwZyydiXGLI\n",
            "To: /content/VL-T5/datasets/vqa/karpathy_test.json\n",
            "100%|██████████| 23.4M/23.4M [00:00<00:00, 200MB/s]\n",
            "Downloading...\n",
            "From: https://drive.google.com/uc?id=13OKK3qm4n_vWO4Gvo6ZG4kPOLSaSFjoU\n",
            "To: /content/VL-T5/datasets/vqa/karpathy_train.json\n",
            "100%|██████████| 540M/540M [00:02<00:00, 228MB/s]\n",
            "Downloading...\n",
            "From: https://drive.google.com/uc?id=1RjCZ-JX1a-QSgiuuL4Gxj_5DBeaVHQ9A\n",
            "To: /content/VL-T5/datasets/vqa/karpathy_val.json\n",
            "100%|██████████| 23.8M/23.8M [00:00<00:00, 133MB/s] \n"
          ]
        },
        {
          "output_type": "execute_result",
          "data": {
            "application/vnd.google.colaboratory.intrinsic+json": {
              "type": "string"
            },
            "text/plain": [
              "'datasets/vqa/karpathy_val.json'"
            ]
          },
          "metadata": {},
          "execution_count": 10
        }
      ],
      "source": [
        "gdown.download('https://drive.google.com/uc?id=1h7tObFYDni5nZM8DayBWvzSjn1EMYz60', 'datasets/vqa/v2_mscoco_train2014_annotations.json', quiet=False)\n",
        "gdown.download('https://drive.google.com/uc?id=1S6e9JjFpz_arSP-JGiwzkjLf9cvWH_gg', 'datasets/vqa/v2_mscoco_val2014_annotations.json', quiet=False)\n",
        "gdown.download('https://drive.google.com/uc?id=1VhxsZ8ZAp55-KdpGHymKZVqtAfZ7KilH', 'datasets/vqa/trainval_ans2label.json', quiet=False)\n",
        "gdown.download('https://drive.google.com/uc?id=1QO5j2V0yY-fV3aELk105qFgLJRFp0AWF', 'datasets/vqa/trainval_label2ans.json', quiet=False)\n",
        "gdown.download('https://drive.google.com/uc?id=1GO19yoHAZFiMP6fLGnJA2DwZyydiXGLI', 'datasets/vqa/karpathy_test.json', quiet=False)\n",
        "gdown.download('https://drive.google.com/uc?id=13OKK3qm4n_vWO4Gvo6ZG4kPOLSaSFjoU', 'datasets/vqa/karpathy_train.json', quiet=False)\n",
        "gdown.download('https://drive.google.com/uc?id=1RjCZ-JX1a-QSgiuuL4Gxj_5DBeaVHQ9A', 'datasets/vqa/karpathy_val.json', quiet=False)\n"
      ]
    },
    {
      "cell_type": "code",
      "execution_count": 11,
      "metadata": {
        "colab": {
          "base_uri": "https://localhost:8080/"
        },
        "id": "DknJfT3DVNht",
        "outputId": "e1278ff5-5e00-430e-f7bf-67a8c40072f6"
      },
      "outputs": [
        {
          "output_type": "stream",
          "name": "stdout",
          "text": [
            "\u001b[33mWARNING: Skipping param as it is not installed.\u001b[0m\n"
          ]
        }
      ],
      "source": [
        "!pip uninstall param -y"
      ]
    },
    {
      "cell_type": "code",
      "execution_count": 12,
      "metadata": {
        "colab": {
          "base_uri": "https://localhost:8080/"
        },
        "id": "T_SiD-soVWM3",
        "outputId": "a56fb995-4209-47ca-a501-fc38a8050d45"
      },
      "outputs": [
        {
          "output_type": "stream",
          "name": "stdout",
          "text": [
            "/content/VL-T5/VL-T5\n"
          ]
        }
      ],
      "source": [
        "cd VL-T5"
      ]
    },
    {
      "cell_type": "code",
      "source": [
        "!bash scripts/VQA_VLT5.sh 1"
      ],
      "metadata": {
        "id": "6MlSwQ-OR59N",
        "colab": {
          "base_uri": "https://localhost:8080/"
        },
        "outputId": "e35ceda7-caa8-423b-bc2a-0b15c3798e41"
      },
      "execution_count": 13,
      "outputs": [
        {
          "output_type": "stream",
          "name": "stdout",
          "text": [
            "Configurations\n",
            "{'RefCOCO_BUTD': False,\n",
            " 'RefCOCO_GT': False,\n",
            " 'adam_beta1': 0.9,\n",
            " 'adam_beta2': 0.999,\n",
            " 'adam_eps': 1e-06,\n",
            " 'answer_normalize': False,\n",
            " 'backbone': 't5-base',\n",
            " 'batch_size': 80,\n",
            " 'caption_cocoonly': True,\n",
            " 'caption_only': False,\n",
            " 'classifier': False,\n",
            " 'clip_grad_norm': 5.0,\n",
            " 'coco_only': False,\n",
            " 'comment': '',\n",
            " 'distributed': True,\n",
            " 'do_lower_case': False,\n",
            " 'dropout': 0.1,\n",
            " 'dry': False,\n",
            " 'epochs': 20,\n",
            " 'feat_dim': 2048,\n",
            " 'fp16': False,\n",
            " 'from_scratch': False,\n",
            " 'gen_max_length': 20,\n",
            " 'gradient_accumulation_steps': 1,\n",
            " 'ground_upsample': 1,\n",
            " 'ground_weight': 1,\n",
            " 'individual_vis_layer_norm': True,\n",
            " 'itm_cocoonly': True,\n",
            " 'load': 'snap/pretrain/VLT5/Epoch30',\n",
            " 'local_rank': 0,\n",
            " 'log_train_accuracy': False,\n",
            " 'losses': 'lm,obj,attr,feat',\n",
            " 'lr': 5e-05,\n",
            " 'max_n_boxes': 36,\n",
            " 'max_text_length': 20,\n",
            " 'multiGPU': True,\n",
            " 'multitask_sampling': 'roundrobin',\n",
            " 'n_boxes': 36,\n",
            " 'n_ground': 1,\n",
            " 'no_prefix': False,\n",
            " 'num_beams': 5,\n",
            " 'num_workers': 4,\n",
            " 'obj_mask_rate': 0.15,\n",
            " 'optim': 'adamw',\n",
            " 'optimizer': 'adamw',\n",
            " 'oscar_tags': False,\n",
            " 'output': 'snap/vqa/VLT5',\n",
            " 'pos_dim': 4,\n",
            " 'prefix': None,\n",
            " 'raw_label': False,\n",
            " 'seed': 9595,\n",
            " 'share_vis_lang_layer_norm': False,\n",
            " 'shuffle_boxes': False,\n",
            " 'single_vqa_prefix': False,\n",
            " 'submit': False,\n",
            " 'tasks': '',\n",
            " 'test': 'karpathy_test',\n",
            " 'test_answerable': False,\n",
            " 'test_only': False,\n",
            " 'tokenizer': None,\n",
            " 'train': 'karpathy_train',\n",
            " 'train_topk': -1,\n",
            " 'use_vis_layer_norm': True,\n",
            " 'use_vis_order_embedding': True,\n",
            " 'use_vision': True,\n",
            " 'valid': 'karpathy_val',\n",
            " 'valid_batch_size': 100,\n",
            " 'valid_topk': -1,\n",
            " 'warmup_ratio': 0.1,\n",
            " 'weight_decay': 0.01,\n",
            " 'word_mask_rate': 0.15,\n",
            " 'world_size': 1}\n",
            "Process Launching at GPU 0\n",
            "Building train loader at GPU 0\n",
            "Load 605102 data from split(s) karpathy_train.\n",
            "# Answers: 3129\n",
            "Data sources:  ['karpathy_train']\n",
            "Downloading: 100% 1.39M/1.39M [00:00<00:00, 10.2MB/s]\n",
            "Loaded 605102 data from karpathy_train\n",
            "# all sentences: 605102\n",
            "Building val loader at GPU 0\n",
            "Traceback (most recent call last):\n",
            "  File \"/usr/lib/python3.7/runpy.py\", line 193, in _run_module_as_main\n",
            "    \"__main__\", mod_spec)\n",
            "  File \"/usr/lib/python3.7/runpy.py\", line 85, in _run_code\n",
            "    exec(code, run_globals)\n",
            "  File \"/usr/local/lib/python3.7/dist-packages/torch/distributed/launch.py\", line 261, in <module>\n",
            "    main()\n",
            "  File \"/usr/local/lib/python3.7/dist-packages/torch/distributed/launch.py\", line 257, in main\n",
            "    cmd=cmd)\n",
            "subprocess.CalledProcessError: Command '['/usr/bin/python3', '-u', 'src/vqa.py', '--local_rank=0', '--distributed', '--multiGPU', '--train', 'karpathy_train', '--valid', 'karpathy_val', '--test', 'karpathy_test', '--optim', 'adamw', '--warmup_ratio', '0.1', '--clip_grad_norm', '5', '--lr', '5e-5', '--epochs', '20', '--num_workers', '4', '--backbone', 't5-base', '--output', 'snap/vqa/VLT5', '--load', 'snap/pretrain/VLT5/Epoch30', '--num_beams', '5', '--batch_size', '80', '--valid_batch_size', '100']' died with <Signals.SIGKILL: 9>.\n"
          ]
        }
      ]
    },
    {
      "cell_type": "code",
      "execution_count": null,
      "metadata": {
        "colab": {
          "base_uri": "https://localhost:8080/"
        },
        "id": "JtqZi88cVWvh",
        "outputId": "217c5fdb-18d6-4a23-d452-793e1b19f490"
      },
      "outputs": [
        {
          "output_type": "stream",
          "name": "stdout",
          "text": [
            "*****************************************\n",
            "Setting OMP_NUM_THREADS environment variable for each process to be 1 in default, to avoid your system being overloaded, please further tune the variable for optimal performance in your application as needed. \n",
            "*****************************************\n",
            "Process Launching at GPU 2Process Launching at GPU 3\n",
            "\n",
            "Process Launching at GPU 1\n",
            "Configurations\n",
            "{'RefCOCO_BUTD': False,\n",
            " 'RefCOCO_GT': False,\n",
            " 'adam_beta1': 0.9,\n",
            " 'adam_beta2': 0.999,\n",
            " 'adam_eps': 1e-06,\n",
            " 'answer_normalize': False,\n",
            " 'backbone': 't5-base',\n",
            " 'batch_size': 80,\n",
            " 'caption_cocoonly': True,\n",
            " 'caption_only': False,\n",
            " 'classifier': False,\n",
            " 'clip_grad_norm': 5.0,\n",
            " 'coco_only': False,\n",
            " 'comment': '',\n",
            " 'distributed': True,\n",
            " 'do_lower_case': False,\n",
            " 'dropout': 0.1,\n",
            " 'dry': False,\n",
            " 'epochs': 20,\n",
            " 'feat_dim': 2048,\n",
            " 'fp16': False,\n",
            " 'from_scratch': False,\n",
            " 'gen_max_length': 20,\n",
            " 'gradient_accumulation_steps': 1,\n",
            " 'ground_upsample': 1,\n",
            " 'ground_weight': 1,\n",
            " 'individual_vis_layer_norm': True,\n",
            " 'itm_cocoonly': True,\n",
            " 'load': 'snap/pretrain/VLT5/Epoch30',\n",
            " 'local_rank': 0,\n",
            " 'log_train_accuracy': False,\n",
            " 'losses': 'lm,obj,attr,feat',\n",
            " 'lr': 5e-05,\n",
            " 'max_n_boxes': 36,\n",
            " 'max_text_length': 20,\n",
            " 'multiGPU': True,\n",
            " 'multitask_sampling': 'roundrobin',\n",
            " 'n_boxes': 36,\n",
            " 'n_ground': 1,\n",
            " 'no_prefix': False,\n",
            " 'num_beams': 5,\n",
            " 'num_workers': 4,\n",
            " 'obj_mask_rate': 0.15,\n",
            " 'optim': 'adamw',\n",
            " 'optimizer': 'adamw',\n",
            " 'oscar_tags': False,\n",
            " 'output': 'snap/vqa/VLT5',\n",
            " 'pos_dim': 4,\n",
            " 'prefix': None,\n",
            " 'raw_label': False,\n",
            " 'seed': 9595,\n",
            " 'share_vis_lang_layer_norm': False,\n",
            " 'shuffle_boxes': False,\n",
            " 'single_vqa_prefix': False,\n",
            " 'submit': False,\n",
            " 'tasks': '',\n",
            " 'test': 'karpathy_test',\n",
            " 'test_answerable': False,\n",
            " 'test_only': False,\n",
            " 'tokenizer': None,\n",
            " 'train': 'karpathy_train',\n",
            " 'train_topk': -1,\n",
            " 'use_vis_layer_norm': True,\n",
            " 'use_vis_order_embedding': True,\n",
            " 'use_vision': True,\n",
            " 'valid': 'karpathy_val',\n",
            " 'valid_batch_size': 100,\n",
            " 'valid_topk': -1,\n",
            " 'warmup_ratio': 0.1,\n",
            " 'weight_decay': 0.01,\n",
            " 'word_mask_rate': 0.15,\n",
            " 'world_size': 1}\n",
            "Process Launching at GPU 0\n",
            "THCudaCheck FAIL file=/pytorch/torch/csrc/cuda/Module.cpp line=59 error=101 : invalid device ordinal\n",
            "THCudaCheck FAIL file=/pytorch/torch/csrc/cuda/Module.cpp line=59 error=101 : invalid device ordinal\n",
            "THCudaCheck FAIL file=/pytorch/torch/csrc/cuda/Module.cpp line=59 error=101 : invalid device ordinal\n",
            "Traceback (most recent call last):\n",
            "Traceback (most recent call last):\n",
            "  File \"src/vqa.py\", line 466, in <module>\n",
            "  File \"src/vqa.py\", line 466, in <module>\n",
            "    main_worker(args.local_rank, args)\n",
            "  File \"src/vqa.py\", line 387, in main_worker\n",
            "    main_worker(args.local_rank, args)\n",
            "  File \"src/vqa.py\", line 387, in main_worker\n",
            "    torch.cuda.set_device(args.gpu)\n",
            "  File \"/usr/local/lib/python3.7/dist-packages/torch/cuda/__init__.py\", line 281, in set_device\n",
            "    torch.cuda.set_device(args.gpu)\n",
            "  File \"/usr/local/lib/python3.7/dist-packages/torch/cuda/__init__.py\", line 281, in set_device\n",
            "    torch._C._cuda_setDevice(device)\n",
            "RuntimeError: cuda runtime error (101) : invalid device ordinal at /pytorch/torch/csrc/cuda/Module.cpp:59\n",
            "    torch._C._cuda_setDevice(device)\n",
            "RuntimeError: cuda runtime error (101) : invalid device ordinal at /pytorch/torch/csrc/cuda/Module.cpp:59\n",
            "Traceback (most recent call last):\n",
            "  File \"src/vqa.py\", line 466, in <module>\n",
            "    main_worker(args.local_rank, args)\n",
            "  File \"src/vqa.py\", line 387, in main_worker\n",
            "    torch.cuda.set_device(args.gpu)\n",
            "  File \"/usr/local/lib/python3.7/dist-packages/torch/cuda/__init__.py\", line 281, in set_device\n",
            "    torch._C._cuda_setDevice(device)\n",
            "RuntimeError: cuda runtime error (101) : invalid device ordinal at /pytorch/torch/csrc/cuda/Module.cpp:59\n",
            "Building train loader at GPU 0\n",
            "Load 605102 data from split(s) karpathy_train.\n",
            "# Answers: 3129\n",
            "Data sources:  ['karpathy_train']\n",
            "Loaded 605102 data from karpathy_train\n",
            "# all sentences: 605102\n",
            "Building val loader at GPU 0\n"
          ]
        }
      ],
      "source": [
        "!bash scripts/VQA_VLT5.sh 4"
      ]
    }
  ],
  "metadata": {
    "accelerator": "GPU",
    "colab": {
      "name": "VQAMain.ipynb",
      "provenance": [],
      "collapsed_sections": []
    },
    "kernelspec": {
      "display_name": "Python 3",
      "name": "python3"
    },
    "language_info": {
      "name": "python"
    }
  },
  "nbformat": 4,
  "nbformat_minor": 0
}