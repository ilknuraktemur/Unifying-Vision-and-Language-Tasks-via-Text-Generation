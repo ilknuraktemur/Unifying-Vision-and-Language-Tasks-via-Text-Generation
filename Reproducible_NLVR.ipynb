{
  "cells": [
    {
      "cell_type": "markdown",
      "metadata": {
        "id": "view-in-github",
        "colab_type": "text"
      },
      "source": [
        "<a href=\"https://colab.research.google.com/github/ilknuraktemur/Unifying-Vision-and-Language-Tasks-via-Text-Generation/blob/main/Reproducible_NLVR.ipynb\" target=\"_parent\"><img src=\"https://colab.research.google.com/assets/colab-badge.svg\" alt=\"Open In Colab\"/></a>"
      ]
    },
    {
      "cell_type": "code",
      "execution_count": null,
      "metadata": {
        "colab": {
          "base_uri": "https://localhost:8080/"
        },
        "id": "EDkPvmBHe9Bf",
        "outputId": "dbe7aef9-ad45-4cc9-9c43-682d2af3c169"
      },
      "outputs": [
        {
          "name": "stdout",
          "output_type": "stream",
          "text": [
            "shell-init: error retrieving current directory: getcwd: cannot access parent directories: Operation not permitted\r\n",
            "fatal: destination path 'VL-T5' already exists and is not an empty directory.\r\n"
          ]
        }
      ],
      "source": [
        "!git clone https://github.com/j-min/VL-T5"
      ]
    },
    {
      "cell_type": "code",
      "execution_count": null,
      "metadata": {
        "colab": {
          "base_uri": "https://localhost:8080/"
        },
        "id": "ruLGseWxe_FO",
        "outputId": "ba134323-a7cb-41f9-bd6b-8b463d23d57c"
      },
      "outputs": [
        {
          "name": "stdout",
          "output_type": "stream",
          "text": [
            "/Users/ecemmine/Desktop/blg561/VL-T5\n"
          ]
        }
      ],
      "source": [
        "cd /Users/ecemmine/Desktop/blg561/VL-T5"
      ]
    },
    {
      "cell_type": "code",
      "execution_count": null,
      "metadata": {
        "colab": {
          "base_uri": "https://localhost:8080/"
        },
        "id": "VvKeReyefAzU",
        "outputId": "4bcc18cf-0564-4548-fc0a-6b934b93081b",
        "scrolled": true
      },
      "outputs": [
        {
          "name": "stdout",
          "output_type": "stream",
          "text": [
            "\u001b[33mWARNING: Skipping param as it is not installed.\u001b[0m\n",
            "Collecting git+git://github.com/j-min/language-evaluation@master (from -r requirements.txt (line 12))\n",
            "  Cloning git://github.com/j-min/language-evaluation (to revision master) to /private/var/folders/hs/8gnwp5597kj7gz83bkpr9gcm0000gn/T/pip-req-build-2ne82edo\n",
            "Requirement already satisfied (use --upgrade to upgrade): language-evaluation==0.1.0 from git+git://github.com/j-min/language-evaluation@master in /Users/ecemmine/opt/anaconda3/lib/python3.8/site-packages (from -r requirements.txt (line 12))\n",
            "Requirement already satisfied: torch==1.6.0 in /Users/ecemmine/opt/anaconda3/lib/python3.8/site-packages (from -r requirements.txt (line 1)) (1.6.0)\n",
            "Requirement already satisfied: transformers==4.2.1 in /Users/ecemmine/opt/anaconda3/lib/python3.8/site-packages (from -r requirements.txt (line 2)) (4.2.1)\n",
            "Requirement already satisfied: sentencepiece in /Users/ecemmine/opt/anaconda3/lib/python3.8/site-packages (from -r requirements.txt (line 3)) (0.1.96)\n",
            "Requirement already satisfied: h5py in /Users/ecemmine/opt/anaconda3/lib/python3.8/site-packages (from -r requirements.txt (line 4)) (2.10.0)\n",
            "Requirement already satisfied: wandb in /Users/ecemmine/opt/anaconda3/lib/python3.8/site-packages (from -r requirements.txt (line 5)) (0.12.9)\n",
            "Requirement already satisfied: tqdm in /Users/ecemmine/opt/anaconda3/lib/python3.8/site-packages (from -r requirements.txt (line 6)) (4.50.2)\n",
            "Requirement already satisfied: numpy in /Users/ecemmine/opt/anaconda3/lib/python3.8/site-packages (from -r requirements.txt (line 7)) (1.20.3)\n",
            "Requirement already satisfied: pandas in /Users/ecemmine/opt/anaconda3/lib/python3.8/site-packages (from -r requirements.txt (line 8)) (1.1.3)\n",
            "Requirement already satisfied: matplotlib in /Users/ecemmine/opt/anaconda3/lib/python3.8/site-packages (from -r requirements.txt (line 9)) (3.3.2)\n",
            "Requirement already satisfied: pyyaml in /Users/ecemmine/opt/anaconda3/lib/python3.8/site-packages (from -r requirements.txt (line 10)) (5.3.1)\n",
            "Requirement already satisfied: sacrebleu in /Users/ecemmine/opt/anaconda3/lib/python3.8/site-packages (from -r requirements.txt (line 11)) (2.0.0)\n",
            "Requirement already satisfied: torchvision==0.7.0 in /Users/ecemmine/opt/anaconda3/lib/python3.8/site-packages (from -r requirements.txt (line 13)) (0.7.0)\n",
            "Requirement already satisfied: wget in /Users/ecemmine/opt/anaconda3/lib/python3.8/site-packages (from -r requirements.txt (line 14)) (3.2)\n",
            "Requirement already satisfied: scikit-image in /Users/ecemmine/opt/anaconda3/lib/python3.8/site-packages (from language-evaluation==0.1.0->-r requirements.txt (line 12)) (0.17.2)\n",
            "Requirement already satisfied: absl-py in /Users/ecemmine/opt/anaconda3/lib/python3.8/site-packages (from language-evaluation==0.1.0->-r requirements.txt (line 12)) (0.11.0)\n",
            "Requirement already satisfied: nltk in /Users/ecemmine/opt/anaconda3/lib/python3.8/site-packages (from language-evaluation==0.1.0->-r requirements.txt (line 12)) (3.5)\n",
            "Requirement already satisfied: six in /Users/ecemmine/opt/anaconda3/lib/python3.8/site-packages (from language-evaluation==0.1.0->-r requirements.txt (line 12)) (1.15.0)\n",
            "Requirement already satisfied: more_itertools in /Users/ecemmine/opt/anaconda3/lib/python3.8/site-packages (from language-evaluation==0.1.0->-r requirements.txt (line 12)) (8.6.0)\n",
            "Requirement already satisfied: colorlog in /Users/ecemmine/opt/anaconda3/lib/python3.8/site-packages (from language-evaluation==0.1.0->-r requirements.txt (line 12)) (6.6.0)\n",
            "Requirement already satisfied: future in /Users/ecemmine/opt/anaconda3/lib/python3.8/site-packages (from torch==1.6.0->-r requirements.txt (line 1)) (0.18.2)\n",
            "Requirement already satisfied: filelock in /Users/ecemmine/opt/anaconda3/lib/python3.8/site-packages (from transformers==4.2.1->-r requirements.txt (line 2)) (3.0.12)\n",
            "Requirement already satisfied: tokenizers==0.9.4 in /Users/ecemmine/opt/anaconda3/lib/python3.8/site-packages (from transformers==4.2.1->-r requirements.txt (line 2)) (0.9.4)\n",
            "Requirement already satisfied: regex!=2019.12.17 in /Users/ecemmine/opt/anaconda3/lib/python3.8/site-packages (from transformers==4.2.1->-r requirements.txt (line 2)) (2020.10.15)\n",
            "Requirement already satisfied: requests in /Users/ecemmine/opt/anaconda3/lib/python3.8/site-packages (from transformers==4.2.1->-r requirements.txt (line 2)) (2.24.0)\n",
            "Requirement already satisfied: packaging in /Users/ecemmine/opt/anaconda3/lib/python3.8/site-packages (from transformers==4.2.1->-r requirements.txt (line 2)) (20.4)\n",
            "Requirement already satisfied: sacremoses in /Users/ecemmine/opt/anaconda3/lib/python3.8/site-packages (from transformers==4.2.1->-r requirements.txt (line 2)) (0.0.47)\n",
            "Requirement already satisfied: protobuf>=3.12.0 in /Users/ecemmine/opt/anaconda3/lib/python3.8/site-packages (from wandb->-r requirements.txt (line 5)) (3.14.0)\n",
            "Requirement already satisfied: Click!=8.0.0,>=7.0 in /Users/ecemmine/opt/anaconda3/lib/python3.8/site-packages (from wandb->-r requirements.txt (line 5)) (7.1.2)\n",
            "Requirement already satisfied: python-dateutil>=2.6.1 in /Users/ecemmine/opt/anaconda3/lib/python3.8/site-packages (from wandb->-r requirements.txt (line 5)) (2.8.1)\n",
            "Requirement already satisfied: docker-pycreds>=0.4.0 in /Users/ecemmine/opt/anaconda3/lib/python3.8/site-packages (from wandb->-r requirements.txt (line 5)) (0.4.0)\n",
            "Requirement already satisfied: configparser>=3.8.1 in /Users/ecemmine/opt/anaconda3/lib/python3.8/site-packages (from wandb->-r requirements.txt (line 5)) (5.2.0)\n",
            "Requirement already satisfied: yaspin>=1.0.0 in /Users/ecemmine/opt/anaconda3/lib/python3.8/site-packages (from wandb->-r requirements.txt (line 5)) (2.1.0)\n",
            "Requirement already satisfied: psutil>=5.0.0 in /Users/ecemmine/opt/anaconda3/lib/python3.8/site-packages (from wandb->-r requirements.txt (line 5)) (5.7.2)\n",
            "Requirement already satisfied: pathtools in /Users/ecemmine/opt/anaconda3/lib/python3.8/site-packages (from wandb->-r requirements.txt (line 5)) (0.1.2)\n",
            "Requirement already satisfied: shortuuid>=0.5.0 in /Users/ecemmine/opt/anaconda3/lib/python3.8/site-packages (from wandb->-r requirements.txt (line 5)) (1.0.8)\n",
            "Requirement already satisfied: GitPython>=1.0.0 in /Users/ecemmine/opt/anaconda3/lib/python3.8/site-packages (from wandb->-r requirements.txt (line 5)) (3.1.26)\n",
            "Requirement already satisfied: subprocess32>=3.5.3 in /Users/ecemmine/opt/anaconda3/lib/python3.8/site-packages (from wandb->-r requirements.txt (line 5)) (3.5.4)\n",
            "Requirement already satisfied: promise<3,>=2.0 in /Users/ecemmine/opt/anaconda3/lib/python3.8/site-packages (from wandb->-r requirements.txt (line 5)) (2.3)\n",
            "Requirement already satisfied: sentry-sdk>=1.0.0 in /Users/ecemmine/opt/anaconda3/lib/python3.8/site-packages (from wandb->-r requirements.txt (line 5)) (1.5.3)\n",
            "Requirement already satisfied: pytz>=2017.2 in /Users/ecemmine/opt/anaconda3/lib/python3.8/site-packages (from pandas->-r requirements.txt (line 8)) (2020.1)\n",
            "Requirement already satisfied: pyparsing!=2.0.4,!=2.1.2,!=2.1.6,>=2.0.3 in /Users/ecemmine/opt/anaconda3/lib/python3.8/site-packages (from matplotlib->-r requirements.txt (line 9)) (2.4.7)\n",
            "Requirement already satisfied: cycler>=0.10 in /Users/ecemmine/opt/anaconda3/lib/python3.8/site-packages (from matplotlib->-r requirements.txt (line 9)) (0.10.0)\n",
            "Requirement already satisfied: certifi>=2020.06.20 in /Users/ecemmine/opt/anaconda3/lib/python3.8/site-packages (from matplotlib->-r requirements.txt (line 9)) (2020.6.20)\n",
            "Requirement already satisfied: kiwisolver>=1.0.1 in /Users/ecemmine/opt/anaconda3/lib/python3.8/site-packages (from matplotlib->-r requirements.txt (line 9)) (1.3.0)\n",
            "Requirement already satisfied: pillow>=6.2.0 in /Users/ecemmine/opt/anaconda3/lib/python3.8/site-packages (from matplotlib->-r requirements.txt (line 9)) (8.0.1)\n",
            "Requirement already satisfied: portalocker in /Users/ecemmine/opt/anaconda3/lib/python3.8/site-packages (from sacrebleu->-r requirements.txt (line 11)) (2.3.2)\n",
            "Requirement already satisfied: colorama in /Users/ecemmine/opt/anaconda3/lib/python3.8/site-packages (from sacrebleu->-r requirements.txt (line 11)) (0.4.4)\n",
            "Requirement already satisfied: tabulate>=0.8.9 in /Users/ecemmine/opt/anaconda3/lib/python3.8/site-packages (from sacrebleu->-r requirements.txt (line 11)) (0.8.9)\n",
            "Requirement already satisfied: scipy>=1.0.1 in /Users/ecemmine/opt/anaconda3/lib/python3.8/site-packages (from scikit-image->language-evaluation==0.1.0->-r requirements.txt (line 12)) (1.6.3)\n",
            "Requirement already satisfied: networkx>=2.0 in /Users/ecemmine/opt/anaconda3/lib/python3.8/site-packages (from scikit-image->language-evaluation==0.1.0->-r requirements.txt (line 12)) (2.5)\n",
            "Requirement already satisfied: imageio>=2.3.0 in /Users/ecemmine/opt/anaconda3/lib/python3.8/site-packages (from scikit-image->language-evaluation==0.1.0->-r requirements.txt (line 12)) (2.9.0)\n",
            "Requirement already satisfied: tifffile>=2019.7.26 in /Users/ecemmine/opt/anaconda3/lib/python3.8/site-packages (from scikit-image->language-evaluation==0.1.0->-r requirements.txt (line 12)) (2020.10.1)\n",
            "Requirement already satisfied: PyWavelets>=1.1.1 in /Users/ecemmine/opt/anaconda3/lib/python3.8/site-packages (from scikit-image->language-evaluation==0.1.0->-r requirements.txt (line 12)) (1.1.1)\n"
          ]
        },
        {
          "name": "stdout",
          "output_type": "stream",
          "text": [
            "Requirement already satisfied: joblib in /Users/ecemmine/opt/anaconda3/lib/python3.8/site-packages (from nltk->language-evaluation==0.1.0->-r requirements.txt (line 12)) (0.17.0)\n",
            "Requirement already satisfied: chardet<4,>=3.0.2 in /Users/ecemmine/opt/anaconda3/lib/python3.8/site-packages (from requests->transformers==4.2.1->-r requirements.txt (line 2)) (3.0.4)\n",
            "Requirement already satisfied: urllib3!=1.25.0,!=1.25.1,<1.26,>=1.21.1 in /Users/ecemmine/opt/anaconda3/lib/python3.8/site-packages (from requests->transformers==4.2.1->-r requirements.txt (line 2)) (1.25.11)\n",
            "Requirement already satisfied: idna<3,>=2.5 in /Users/ecemmine/opt/anaconda3/lib/python3.8/site-packages (from requests->transformers==4.2.1->-r requirements.txt (line 2)) (2.10)\n",
            "Requirement already satisfied: termcolor<2.0.0,>=1.1.0 in /Users/ecemmine/opt/anaconda3/lib/python3.8/site-packages (from yaspin>=1.0.0->wandb->-r requirements.txt (line 5)) (1.1.0)\n",
            "Requirement already satisfied: gitdb<5,>=4.0.1 in /Users/ecemmine/opt/anaconda3/lib/python3.8/site-packages (from GitPython>=1.0.0->wandb->-r requirements.txt (line 5)) (4.0.9)\n",
            "Requirement already satisfied: decorator>=4.3.0 in /Users/ecemmine/opt/anaconda3/lib/python3.8/site-packages (from networkx>=2.0->scikit-image->language-evaluation==0.1.0->-r requirements.txt (line 12)) (4.4.2)\n",
            "Requirement already satisfied: smmap<6,>=3.0.1 in /Users/ecemmine/opt/anaconda3/lib/python3.8/site-packages (from gitdb<5,>=4.0.1->GitPython>=1.0.0->wandb->-r requirements.txt (line 5)) (5.0.0)\n",
            "Building wheels for collected packages: language-evaluation\n",
            "  Building wheel for language-evaluation (setup.py) ... \u001b[?25ldone\n",
            "\u001b[?25h  Created wheel for language-evaluation: filename=language_evaluation-0.1.0-py3-none-any.whl size=42696056 sha256=6afb49754dfdc58380c769251067a7ecdacc7c9610319b2a1f59d1db56c9f8bb\n",
            "  Stored in directory: /private/var/folders/hs/8gnwp5597kj7gz83bkpr9gcm0000gn/T/pip-ephem-wheel-cache-1s5rhv8_/wheels/2d/f8/5b/b4d17835b2c9dda107031f1e0da4661c1f3fc4bbd2173e1c43\n",
            "Successfully built language-evaluation\n",
            "Downloading checkpoints if not cached\n",
            "T5-base\n",
            "BART-base\n",
            "Done!\n"
          ]
        }
      ],
      "source": [
        "!pip uninstall param -y # to resolve name conflict with src.param.py\n",
        "!pip install -r requirements.txt\n",
        "!python download_backbones.py"
      ]
    },
    {
      "cell_type": "code",
      "execution_count": null,
      "metadata": {
        "id": "jlwePZ6vRuh2",
        "outputId": "4f8c01a0-2c01-436f-93ea-da25dc6fdba1"
      },
      "outputs": [
        {
          "name": "stdout",
          "output_type": "stream",
          "text": [
            "Collecting gdown\n",
            "  Downloading gdown-4.2.0.tar.gz (13 kB)\n",
            "  Installing build dependencies ... \u001b[?25ldone\n",
            "\u001b[?25h  Getting requirements to build wheel ... \u001b[?25ldone\n",
            "\u001b[?25h    Preparing wheel metadata ... \u001b[?25ldone\n",
            "\u001b[?25hRequirement already satisfied: filelock in /Users/ecemmine/opt/anaconda3/lib/python3.8/site-packages (from gdown) (3.0.12)\n",
            "Requirement already satisfied: beautifulsoup4 in /Users/ecemmine/opt/anaconda3/lib/python3.8/site-packages (from gdown) (4.9.3)\n",
            "Requirement already satisfied: requests[socks] in /Users/ecemmine/opt/anaconda3/lib/python3.8/site-packages (from gdown) (2.24.0)\n",
            "Requirement already satisfied: six in /Users/ecemmine/opt/anaconda3/lib/python3.8/site-packages (from gdown) (1.15.0)\n",
            "Requirement already satisfied: tqdm in /Users/ecemmine/opt/anaconda3/lib/python3.8/site-packages (from gdown) (4.50.2)\n",
            "Requirement already satisfied: soupsieve>1.2; python_version >= \"3.0\" in /Users/ecemmine/opt/anaconda3/lib/python3.8/site-packages (from beautifulsoup4->gdown) (2.0.1)\n",
            "Requirement already satisfied: chardet<4,>=3.0.2 in /Users/ecemmine/opt/anaconda3/lib/python3.8/site-packages (from requests[socks]->gdown) (3.0.4)\n",
            "Requirement already satisfied: certifi>=2017.4.17 in /Users/ecemmine/opt/anaconda3/lib/python3.8/site-packages (from requests[socks]->gdown) (2020.6.20)\n",
            "Requirement already satisfied: urllib3!=1.25.0,!=1.25.1,<1.26,>=1.21.1 in /Users/ecemmine/opt/anaconda3/lib/python3.8/site-packages (from requests[socks]->gdown) (1.25.11)\n",
            "Requirement already satisfied: idna<3,>=2.5 in /Users/ecemmine/opt/anaconda3/lib/python3.8/site-packages (from requests[socks]->gdown) (2.10)\n",
            "Requirement already satisfied: PySocks!=1.5.7,>=1.5.6; extra == \"socks\" in /Users/ecemmine/opt/anaconda3/lib/python3.8/site-packages (from requests[socks]->gdown) (1.7.1)\n",
            "Building wheels for collected packages: gdown\n",
            "  Building wheel for gdown (PEP 517) ... \u001b[?25ldone\n",
            "\u001b[?25h  Created wheel for gdown: filename=gdown-4.2.0-py3-none-any.whl size=14262 sha256=5cc8bbd12dac954efae5bf79d1912b53d4e8ae25472d83febbd5b61d8224a5f3\n",
            "  Stored in directory: /Users/ecemmine/Library/Caches/pip/wheels/2b/3c/51/52c46deda5cd1d59c6ce3d441ea5f3d155495dc294c4535a25\n",
            "Successfully built gdown\n",
            "Installing collected packages: gdown\n",
            "Successfully installed gdown-4.2.0\n",
            "Note: you may need to restart the kernel to use updated packages.\n"
          ]
        }
      ],
      "source": [
        "pip install gdown"
      ]
    },
    {
      "cell_type": "code",
      "execution_count": null,
      "metadata": {
        "id": "BwHQ3LmI4gQi"
      },
      "outputs": [],
      "source": [
        "import gdown"
      ]
    },
    {
      "cell_type": "code",
      "execution_count": null,
      "metadata": {
        "id": "tekCkyN02eVY"
      },
      "outputs": [],
      "source": [
        "!mkdir -p VL-T5/snap/pretrain/VLT5"
      ]
    },
    {
      "cell_type": "code",
      "execution_count": null,
      "metadata": {
        "colab": {
          "base_uri": "https://localhost:8080/"
        },
        "id": "wVjacpLr2fhS",
        "outputId": "25fd13de-80eb-4f07-be4d-f5af787a9a06"
      },
      "outputs": [
        {
          "name": "stderr",
          "output_type": "stream",
          "text": [
            "Downloading...\n",
            "From: https://drive.google.com/drive/folders/1ZtuS7lsh_pZofOSiErwTM7lDUwdC3HAl?usp=sharing\n",
            "To: /Users/ecemmine/Desktop/blg561/VL-T5/VL-T5/snap/pretrain/VLT5/Epoch30.pth\n",
            "804kB [00:00, 9.46MB/s]\n"
          ]
        },
        {
          "data": {
            "text/plain": [
              "'VL-T5/snap/pretrain/VLT5/Epoch30.pth'"
            ]
          },
          "execution_count": 20,
          "metadata": {},
          "output_type": "execute_result"
        }
      ],
      "source": [
        "gdown.download('https://drive.google.com/drive/folders/1ZtuS7lsh_pZofOSiErwTM7lDUwdC3HAl?usp=sharing', 'VL-T5/snap/pretrain/VLT5/Epoch30.pth', quiet=False)"
      ]
    },
    {
      "cell_type": "code",
      "execution_count": null,
      "metadata": {
        "id": "FQMf9OsafKlF"
      },
      "outputs": [],
      "source": [
        "!mkdir -p datasets/nlvr"
      ]
    },
    {
      "cell_type": "code",
      "execution_count": null,
      "metadata": {
        "colab": {
          "base_uri": "https://localhost:8080/",
          "height": 244
        },
        "id": "cadKUxIqfLNR",
        "outputId": "539e1a5d-20ea-455d-8569-b52cb57bbdd4"
      },
      "outputs": [
        {
          "name": "stderr",
          "output_type": "stream",
          "text": [
            "Downloading...\n",
            "From: https://drive.google.com/file/d/1nKuZKCq4EkTUjV8PKQgxEqothvsnHJ6u/view?usp=sharing\n",
            "To: /Users/ecemmine/Desktop/blg561/VL-T5/datasets/nlvr/test.json\n",
            "67.2kB [00:00, 323kB/s]\n",
            "Downloading...\n",
            "From: https://drive.google.com/file/d/1Pk_NMNKphQBvodXecPc-MOO8MX1F_ppV/view?usp=sharing\n",
            "To: /Users/ecemmine/Desktop/blg561/VL-T5/datasets/nlvr/train.json\n",
            "67.2kB [00:00, 340kB/s]\n",
            "Downloading...\n",
            "From: https://drive.google.com/file/d/1yXRF6Rlq7N6fFAhwGTTstfGmdE9AEz91/view?usp=sharing\n",
            "To: /Users/ecemmine/Desktop/blg561/VL-T5/datasets/nlvr/valid.json\n",
            "67.2kB [00:00, 329kB/s]\n"
          ]
        },
        {
          "data": {
            "text/plain": [
              "'datasets/nlvr/valid.json'"
            ]
          },
          "execution_count": 22,
          "metadata": {},
          "output_type": "execute_result"
        }
      ],
      "source": [
        "gdown.download('https://drive.google.com/file/d/1nKuZKCq4EkTUjV8PKQgxEqothvsnHJ6u/view?usp=sharing', r'datasets/nlvr/test.json', quiet=False)\n",
        "gdown.download('https://drive.google.com/file/d/1Pk_NMNKphQBvodXecPc-MOO8MX1F_ppV/view?usp=sharing', r'datasets/nlvr/train.json', quiet=False)\n",
        "gdown.download('https://drive.google.com/file/d/1yXRF6Rlq7N6fFAhwGTTstfGmdE9AEz91/view?usp=sharing', r'datasets/nlvr/valid.json', quiet=False)"
      ]
    },
    {
      "cell_type": "code",
      "execution_count": null,
      "metadata": {
        "id": "4MzHxD4GfNL5"
      },
      "outputs": [],
      "source": [
        "!mkdir -p datasets/nlvr/features"
      ]
    },
    {
      "cell_type": "code",
      "execution_count": null,
      "metadata": {
        "colab": {
          "base_uri": "https://localhost:8080/"
        },
        "id": "cYFWUCryfPDJ",
        "outputId": "9449f128-e8a8-4b19-ce88-48e437f032d5"
      },
      "outputs": [
        {
          "name": "stderr",
          "output_type": "stream",
          "text": [
            "/Users/ecemmine/opt/anaconda3/lib/python3.8/site-packages/gdown/parse_url.py:35: UserWarning: You specified Google Drive Link but it is not the correct link to download the file. Maybe you should try: https://drive.google.com/uc?id=1WAA3Uv9SWJ1aHTYHDJjOlGF1tA8YJ4A7\n",
            "  warnings.warn(\n",
            "Downloading...\n",
            "From: https://drive.google.com/file/d/1WAA3Uv9SWJ1aHTYHDJjOlGF1tA8YJ4A7/view?usp=sharing\n",
            "To: /Users/ecemmine/Desktop/blg561/VL-T5/datasets/nlvr/features/test_obj36.h5\n",
            "66.8kB [00:00, 328kB/s]\n",
            "/Users/ecemmine/opt/anaconda3/lib/python3.8/site-packages/gdown/parse_url.py:35: UserWarning: You specified Google Drive Link but it is not the correct link to download the file. Maybe you should try: https://drive.google.com/uc?id=1dyxk3liRdOxSy_JWPftyWqAvigb-_Qpp\n",
            "  warnings.warn(\n",
            "Downloading...\n",
            "From: https://drive.google.com/file/d/1dyxk3liRdOxSy_JWPftyWqAvigb-_Qpp/view?usp=sharing\n",
            "To: /Users/ecemmine/Desktop/blg561/VL-T5/datasets/nlvr/features/train_obj36.h5\n",
            "66.8kB [00:00, 332kB/s]\n",
            "Downloading...\n",
            "From: https://drive.google.com/file/d/1yXRF6Rlq7N6fFAhwGTTstfGmdE9AEz91/view?usp=sharing\n",
            "To: /Users/ecemmine/Desktop/blg561/VL-T5/datasets/nlvr/features/valid_obj36.h5\n",
            "67.2kB [00:00, 332kB/s]\n"
          ]
        },
        {
          "data": {
            "text/plain": [
              "'datasets/nlvr/features/valid_obj36.h5'"
            ]
          },
          "execution_count": 24,
          "metadata": {},
          "output_type": "execute_result"
        }
      ],
      "source": [
        "gdown.download('https://drive.google.com/file/d/1WAA3Uv9SWJ1aHTYHDJjOlGF1tA8YJ4A7/view?usp=sharing', r'datasets/nlvr/features/test_obj36.h5', quiet=False)\n",
        "gdown.download('https://drive.google.com/file/d/1dyxk3liRdOxSy_JWPftyWqAvigb-_Qpp/view?usp=sharing', r'datasets/nlvr/features/train_obj36.h5', quiet=False)\n",
        "gdown.download('https://drive.google.com/file/d/1yXRF6Rlq7N6fFAhwGTTstfGmdE9AEz91/view?usp=sharing', r'datasets/nlvr/features/valid_obj36.h5', quiet=False)\n"
      ]
    },
    {
      "cell_type": "code",
      "execution_count": null,
      "metadata": {
        "colab": {
          "base_uri": "https://localhost:8080/"
        },
        "id": "QYzxj8cRfDI3",
        "outputId": "af252234-6961-471d-c67d-aebfd33b0131"
      },
      "outputs": [
        {
          "name": "stdout",
          "output_type": "stream",
          "text": [
            "\u001b[33mWARNING: Skipping param as it is not installed.\u001b[0m\r\n"
          ]
        }
      ],
      "source": [
        "!pip uninstall param -y"
      ]
    },
    {
      "cell_type": "code",
      "execution_count": null,
      "metadata": {
        "colab": {
          "base_uri": "https://localhost:8080/"
        },
        "id": "JPZY4iXzfVNx",
        "outputId": "948f4443-a94d-4986-d954-0efe9887b718"
      },
      "outputs": [
        {
          "name": "stdout",
          "output_type": "stream",
          "text": [
            "[Errno 2] No such file or directory: 'VL-T5'\n",
            "/Users/ecemmine/Desktop/blg561/VL-T5/VL-T5\n"
          ]
        }
      ],
      "source": [
        "cd VL-T5"
      ]
    },
    {
      "cell_type": "code",
      "execution_count": null,
      "metadata": {
        "id": "s6KT93igRuh8",
        "outputId": "27d0e48e-04aa-43aa-d97b-875292b6ac81"
      },
      "outputs": [
        {
          "name": "stdout",
          "output_type": "stream",
          "text": [
            "*****************************************\n",
            "Setting OMP_NUM_THREADS environment variable for each process to be 1 in default, to avoid your system being overloaded, please further tune the variable for optimal performance in your application as needed. \n",
            "*****************************************\n",
            "Configurations\n",
            "{'RefCOCO_BUTD': False,\n",
            " 'RefCOCO_GT': False,\n",
            " 'adam_beta1': 0.9,\n",
            " 'adam_beta2': 0.999,\n",
            " 'adam_eps': 1e-06,\n",
            " 'answer_normalize': False,\n",
            " 'backbone': 't5-base',\n",
            " 'batch_size': 30,\n",
            " 'caption_cocoonly': True,\n",
            " 'caption_only': False,\n",
            " 'classifier': False,\n",
            " 'clip_grad_norm': 5.0,\n",
            " 'coco_only': False,\n",
            " 'comment': '',\n",
            " 'distributed': True,\n",
            " 'do_lower_case': False,\n",
            " 'dropout': 0.1,\n",
            " 'dry': False,\n",
            " 'epochs': 20,\n",
            " 'feat_dim': 2048,\n",
            " 'fp16': False,\n",
            " 'from_scratch': False,\n",
            " 'gen_max_length': 20,\n",
            " 'gradient_accumulation_steps': 1,\n",
            " 'ground_upsample': 1,\n",
            " 'ground_weight': 1,\n",
            " 'individual_vis_layer_norm': True,\n",
            " 'itm_cocoonly': True,\n",
            " 'load': 'snap/pretrain/VLT5/Epoch30',\n",
            " 'local_rank': 0,\n",
            " 'log_train_accuracy': False,\n",
            " 'losses': 'lm,obj,attr,feat',\n",
            " 'lr': 5e-05,\n",
            " 'max_n_boxes': 36,\n",
            " 'max_text_length': 40,\n",
            " 'multiGPU': True,\n",
            " 'multitask_sampling': 'roundrobin',\n",
            " 'n_boxes': 36,\n",
            " 'n_ground': 1,\n",
            " 'no_prefix': False,\n",
            " 'num_beams': 1,\n",
            " 'num_workers': 4,\n",
            " 'obj_mask_rate': 0.15,\n",
            " 'optim': 'adamw',\n",
            " 'optimizer': 'adamw',\n",
            " 'oscar_tags': False,\n",
            " 'output': 'snap/nlvr/VLT5',\n",
            " 'pos_dim': 4,\n",
            " 'prefix': None,\n",
            " 'raw_label': False,\n",
            " 'seed': 9595,\n",
            " 'share_vis_lang_layer_norm': False,\n",
            " 'shuffle_boxes': False,\n",
            " 'single_vqa_prefix': False,\n",
            " 'submit': False,\n",
            " 'tasks': '',\n",
            " 'test': 'test',\n",
            " 'test_answerable': False,\n",
            " 'test_only': False,\n",
            " 'tokenizer': None,\n",
            " 'train': 'train',\n",
            " 'train_topk': -1,\n",
            " 'use_vis_layer_norm': True,\n",
            " 'use_vis_order_embedding': True,\n",
            " 'use_vision': True,\n",
            " 'valid': 'valid',\n",
            " 'valid_batch_size': None,\n",
            " 'valid_topk': -1,\n",
            " 'warmup_ratio': 0.1,\n",
            " 'weight_decay': 0.01,\n",
            " 'word_mask_rate': 0.15,\n",
            " 'world_size': 0}\n",
            "Process Launching at GPU 0\n",
            "Process Launching at GPU 1\n",
            "Process Launching at GPU 3\n",
            "Process Launching at GPU 2\n",
            "Building train loader at GPU 0\n",
            "Building train loader at GPU 1\n",
            "Building train loader at GPU 2\n",
            "Building train loader at GPU 3\n",
            "Load 86373 data from split(s) train.\n",
            "Data source:  train\n",
            "# all sentences: 86373\n",
            "Downloading: 100%|██████████████████████████| 1.39M/1.39M [00:06<00:00, 230kB/s]\n",
            "Building val loader at GPU 3\n",
            "Building val loader at GPU 0\n",
            "Building val loader at GPU 1\n",
            "Building val loader at GPU 2\n",
            "Load 6982 data from split(s) valid.\n",
            "Data source:  valid\n",
            "# all sentences: 6982\n",
            "Building test loader at GPU 2\n",
            "Building test loader at GPU 3\n",
            "Building test loader at GPU 0\n",
            "Load 6967 data from split(s) test.\n",
            "Data source:  test\n",
            "# all sentences: 6967\n",
            "Building test loader at GPU 1\n",
            "Building Model at GPU 2\n",
            "Building Model at GPU 0\n",
            "Building Model at GPU 3\n",
            "Building Model at GPU 1\n",
            "Traceback (most recent call last):\n",
            "  File \"src/nlvr.py\", line 463, in <module>\n",
            "    main_worker(args.local_rank, args)\n",
            "  File \"src/nlvr.py\", line 433, in main_worker\n",
            "    trainer = Trainer(args, train_loader, val_loader, test_loader, train=True)\n",
            "  File \"src/nlvr.py\", line 104, in __init__\n",
            "    self.load_checkpoint(ckpt_path)\n",
            "  File \"/Users/ecemmine/Desktop/blg561/VL-T5/VL-T5/src/trainer_base.py\", line 172, in load_checkpoint\n",
            "    state_dict = load_state_dict(ckpt_path, 'cpu')\n",
            "  File \"/Users/ecemmine/Desktop/blg561/VL-T5/VL-T5/src/utils.py\", line 64, in load_state_dict\n",
            "    state_dict = torch.load(state_dict_path, map_location=loc)\n",
            "  File \"/Users/ecemmine/opt/anaconda3/lib/python3.8/site-packages/torch/serialization.py\", line 585, in load\n",
            "    return _legacy_load(opened_file, map_location, pickle_module, **pickle_load_args)\n",
            "  File \"/Users/ecemmine/opt/anaconda3/lib/python3.8/site-packages/torch/serialization.py\", line 755, in _legacy_load\n",
            "    magic_number = pickle_module.load(f, **pickle_load_args)\n",
            "_pickle.UnpicklingError: invalid load key, '<'.\n",
            "Traceback (most recent call last):\n",
            "  File \"src/nlvr.py\", line 463, in <module>\n",
            "    main_worker(args.local_rank, args)\n",
            "  File \"src/nlvr.py\", line 433, in main_worker\n",
            "    trainer = Trainer(args, train_loader, val_loader, test_loader, train=True)\n",
            "  File \"src/nlvr.py\", line 104, in __init__\n",
            "    self.load_checkpoint(ckpt_path)\n",
            "  File \"/Users/ecemmine/Desktop/blg561/VL-T5/VL-T5/src/trainer_base.py\", line 172, in load_checkpoint\n",
            "    state_dict = load_state_dict(ckpt_path, 'cpu')\n",
            "  File \"/Users/ecemmine/Desktop/blg561/VL-T5/VL-T5/src/utils.py\", line 64, in load_state_dict\n",
            "    state_dict = torch.load(state_dict_path, map_location=loc)\n",
            "  File \"/Users/ecemmine/opt/anaconda3/lib/python3.8/site-packages/torch/serialization.py\", line 585, in load\n",
            "    return _legacy_load(opened_file, map_location, pickle_module, **pickle_load_args)\n",
            "  File \"/Users/ecemmine/opt/anaconda3/lib/python3.8/site-packages/torch/serialization.py\", line 755, in _legacy_load\n",
            "    magic_number = pickle_module.load(f, **pickle_load_args)\n",
            "_pickle.UnpicklingError: invalid load key, '<'.\n",
            "Traceback (most recent call last):\n",
            "  File \"/Users/ecemmine/opt/anaconda3/lib/python3.8/runpy.py\", line 194, in _run_module_as_main\n",
            "    return _run_code(code, main_globals, None,\n",
            "  File \"/Users/ecemmine/opt/anaconda3/lib/python3.8/runpy.py\", line 87, in _run_code\n",
            "    exec(code, run_globals)\n",
            "  File \"/Users/ecemmine/opt/anaconda3/lib/python3.8/site-packages/torch/distributed/launch.py\", line 261, in <module>\n",
            "    main()\n",
            "  File \"/Users/ecemmine/opt/anaconda3/lib/python3.8/site-packages/torch/distributed/launch.py\", line 256, in main\n",
            "    raise subprocess.CalledProcessError(returncode=process.returncode,\n",
            "subprocess.CalledProcessError: Command '['/Users/ecemmine/opt/anaconda3/bin/python', '-u', 'src/nlvr.py', '--local_rank=3', '--distributed', '--multiGPU', '--train', 'train', '--valid', 'valid', '--test', 'test', '--optim', 'adamw', '--warmup_ratio', '0.1', '--clip_grad_norm', '5', '--lr', '5e-5', '--epochs', '20', '--num_workers', '4', '--backbone', 't5-base', '--output', 'snap/nlvr/VLT5', '--load', 'snap/pretrain/VLT5/Epoch30', '--batch_size', '30', '--max_text_length', '40']' returned non-zero exit status 1.\n"
          ]
        }
      ],
      "source": [
        "!bash scripts/NLVR_VLT5.sh 4"
      ]
    },
    {
      "cell_type": "code",
      "execution_count": null,
      "metadata": {
        "id": "P9ASSXoaRuh8"
      },
      "outputs": [],
      "source": [
        ""
      ]
    }
  ],
  "metadata": {
    "accelerator": "GPU",
    "colab": {
      "name": "Reproducible_NLVR.ipynb",
      "provenance": [],
      "include_colab_link": true
    },
    "kernelspec": {
      "display_name": "Python 3",
      "language": "python",
      "name": "python3"
    },
    "language_info": {
      "codemirror_mode": {
        "name": "ipython",
        "version": 3
      },
      "file_extension": ".py",
      "mimetype": "text/x-python",
      "name": "python",
      "nbconvert_exporter": "python",
      "pygments_lexer": "ipython3",
      "version": "3.8.5"
    }
  },
  "nbformat": 4,
  "nbformat_minor": 0
}